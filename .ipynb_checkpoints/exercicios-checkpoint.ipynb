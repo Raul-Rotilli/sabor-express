{
 "cells": [
  {
   "cell_type": "markdown",
   "id": "5f2bd036-3b9d-4413-852e-e9d38dff2350",
   "metadata": {},
   "source": [
    "Imprima a frase: Python na Escola de Programação da Alura."
   ]
  },
  {
   "cell_type": "code",
   "execution_count": 3,
   "id": "99dbd92b-4d7c-434e-bda0-29ba8e90eb92",
   "metadata": {},
   "outputs": [
    {
     "name": "stdout",
     "output_type": "stream",
     "text": [
      "Python na Escola de Programação da Alura.\n"
     ]
    }
   ],
   "source": [
    "print(\"Python na Escola de Programação da Alura.\")"
   ]
  },
  {
   "cell_type": "markdown",
   "id": "3872494d-281f-4731-9ea1-3865cd5db3f3",
   "metadata": {},
   "source": [
    " Imprima a frase: Meu nome é {nome} e tenho {idade} anos em que nome e idade precisam ser valores armazenados em variáveis."
   ]
  },
  {
   "cell_type": "code",
   "execution_count": 1,
   "id": "5234da2c-dc57-4032-8445-ccf9ff24286b",
   "metadata": {},
   "outputs": [
    {
     "name": "stdout",
     "output_type": "stream",
     "text": [
      "Meu nome é Raul Rotilli Aguirre e tenho 22 anos.\n"
     ]
    }
   ],
   "source": [
    "nome = 'Raul Rotilli Aguirre'\n",
    "idade = 22\n",
    "\n",
    "print(f'Meu nome é {nome} e tenho {idade} anos.')"
   ]
  },
  {
   "cell_type": "markdown",
   "id": "840bbb28-5fb6-4e5e-a55f-55207fb58452",
   "metadata": {},
   "source": [
    " Imprima a palavra: ‘ALURA’ de modo que cada letra fique em uma linha, como mostrado a seguir:\r\n",
    "\r\n",
    "A\r\n",
    "L\r\n",
    "U\r\n",
    "R\r\n",
    "A"
   ]
  },
  {
   "cell_type": "code",
   "execution_count": 15,
   "id": "85f41d80-bf7a-475c-8374-2a9c69b11a42",
   "metadata": {},
   "outputs": [
    {
     "name": "stdout",
     "output_type": "stream",
     "text": [
      "A\n",
      "L\n",
      "U\n",
      "R\n",
      "A\n"
     ]
    }
   ],
   "source": [
    "palavra = \"ALURA\"\n",
    "for i in range(5):\n",
    "    print(palavra[i])"
   ]
  },
  {
   "cell_type": "markdown",
   "id": "0299bd70-a861-40e8-aeeb-e8902caf7f9f",
   "metadata": {},
   "source": [
    "Imprima a frase: O valor arredondado de pi é: {pi_arredondado} em que o valor de pi precisa ser armazenado em uma variável e arredondado para apenas duas casas decimais. Para facilitar, utilize:\r\n",
    "\r\n",
    "pi = 3.14159"
   ]
  },
  {
   "cell_type": "code",
   "execution_count": 39,
   "id": "6b6b4035-3786-4335-8fdb-e0878a824198",
   "metadata": {},
   "outputs": [
    {
     "name": "stdout",
     "output_type": "stream",
     "text": [
      "O valor arredondado de pi é: 3.14\n"
     ]
    }
   ],
   "source": [
    "pi = 3.14159\n",
    "pi_arredondado = round(pi,2)\n",
    "print(f'O valor arredondado de pi é: {pi_arredondado}')"
   ]
  },
  {
   "cell_type": "markdown",
   "id": "2e272959-41fd-4f91-853b-289027b65548",
   "metadata": {},
   "source": [
    "Solicite ao usuário que insira um número e, em seguida, use uma estrutura if else para determinar se o número é par ou ímpar."
   ]
  },
  {
   "cell_type": "code",
   "execution_count": 13,
   "id": "a59d6619-49c7-4c60-aacd-19adf1360cc9",
   "metadata": {},
   "outputs": [
    {
     "name": "stdin",
     "output_type": "stream",
     "text": [
      "Digite um número: 79\n"
     ]
    },
    {
     "name": "stdout",
     "output_type": "stream",
     "text": [
      "O número 79 é ímpar\n"
     ]
    }
   ],
   "source": [
    "numero_escolhido = int(input('Digite um número:'))\n",
    "\n",
    "if numero_escolhido % 2 == 0:\n",
    "    print(f'O número {numero_escolhido} é par')\n",
    "else:\n",
    "    print(f'O número {numero_escolhido} é ímpar')"
   ]
  },
  {
   "cell_type": "markdown",
   "id": "d643cf5b-affa-4595-9396-1697d3c7e30a",
   "metadata": {},
   "source": [
    "Pergunte ao usuário sua idade e, com base nisso, use uma estrutura if elif else para classificar a idade em categorias de acordo com as seguintes condições:\n",
    "Criança: 0 a 12 anos;\r\n",
    "Adolescente: 13 a 18 anos;\r\n",
    "Adulto: acima de 18 anos."
   ]
  },
  {
   "cell_type": "code",
   "execution_count": 41,
   "id": "91caa48c-799f-49f4-bd6f-5f3900ef0c2a",
   "metadata": {},
   "outputs": [
    {
     "name": "stdin",
     "output_type": "stream",
     "text": [
      "Digite sua idade: 6\n"
     ]
    },
    {
     "name": "stdout",
     "output_type": "stream",
     "text": [
      "Você é uma criança de 6 anos.\n"
     ]
    }
   ],
   "source": [
    "idade = int(input('Digite sua idade:'))\n",
    "\n",
    "if idade >= 0 and idade <= 12:\n",
    "    print(f'Você é uma criança de {idade} anos.')\n",
    "elif 13 <= idade <= 18:\n",
    "    print(f'Você é um(a) adolescente de {idade} anos.')\n",
    "elif idade > 18:\n",
    "    print(f'Você é um(a) adulto(a) de {idade} anos.')\n",
    "else:\n",
    "    print(f'Idade inválida.')"
   ]
  },
  {
   "cell_type": "markdown",
   "id": "07cb5173-1ff7-484e-8173-e3bf52cecd91",
   "metadata": {},
   "source": [
    "Solicite um nome de usuário e uma senha e use uma estrutura if else para verificar se o nome de usuário e a senha fornecidos correspondem aos valores esperados determinados por você."
   ]
  },
  {
   "cell_type": "code",
   "execution_count": 49,
   "id": "a482a57d-4944-4337-93fc-0ed95bd5f915",
   "metadata": {},
   "outputs": [
    {
     "name": "stdin",
     "output_type": "stream",
     "text": [
      "Digite seu usuário: Raul@gmAIL.com\n",
      "Digite sua senha: SENhaTesTE\n"
     ]
    },
    {
     "name": "stdout",
     "output_type": "stream",
     "text": [
      "Seja bem vindo\n"
     ]
    }
   ],
   "source": [
    "user = input(\"Digite seu usuário:\").upper()\n",
    "senha = input(\"Digite sua senha:\").upper()\n",
    "\n",
    "if user == 'RAUL@GMAIL.COM' and senha == 'SENHATESTE':\n",
    "    print('Seja bem vindo')\n",
    "else:\n",
    "    print('Usuário e/ou senha incorretos.')"
   ]
  },
  {
   "cell_type": "markdown",
   "id": "d686e4f2-7455-444f-b22f-4ef8be410aca",
   "metadata": {},
   "source": [
    "Solicite ao usuário as coordenadas (x, y) de um ponto qualquer e utilize uma estrutura if elif else para determinar em qual quadrante do plano cartesiano o ponto se encontra de acordo com as seguintes condições:\r\n",
    "\r\n",
    "Primeiro Quadrante: os valores de x e y devem ser maiores que zero;\r\n",
    "Segundo Quadrante: o valor de x é menor que zero e o valor de y é maior que zero;\r\n",
    "Terceiro Quadrante: os valores de x e y devem ser menores que zero;\r\n",
    "Quarto Quadrante: o valor de x é maior que zero e o valor de y é menor que zero;\r\n",
    "Caso contrário: o ponto está localizado no eixo ou origem."
   ]
  },
  {
   "cell_type": "code",
   "execution_count": 59,
   "id": "d268033e-7b9a-4dec-9930-1dce065901b5",
   "metadata": {},
   "outputs": [
    {
     "name": "stdin",
     "output_type": "stream",
     "text": [
      "Digite a coordernada x: 0\n",
      "Digite a coordenada y: -777\n"
     ]
    },
    {
     "name": "stdout",
     "output_type": "stream",
     "text": [
      "O ponto está localizado no eixo ou origem\n"
     ]
    }
   ],
   "source": [
    "x = float(input('Digite a coordernada x:'))\n",
    "y = float(input('Digite a coordenada y:'))\n",
    "\n",
    "if x > 0 and y >0:\n",
    "    print('Primeiro Quadrante')\n",
    "elif x < 0 and y > 0:\n",
    "    print('Segundo Quadrante')\n",
    "elif x < 0 and y < 0:\n",
    "    print('Terceiro Quadrante')\n",
    "elif x > 0 and y <0:\n",
    "    print('Quarto Quadrante')\n",
    "else:\n",
    "    print('O ponto está localizado no eixo ou origem')"
   ]
  }
 ],
 "metadata": {
  "kernelspec": {
   "display_name": "Python 3 (ipykernel)",
   "language": "python",
   "name": "python3"
  },
  "language_info": {
   "codemirror_mode": {
    "name": "ipython",
    "version": 3
   },
   "file_extension": ".py",
   "mimetype": "text/x-python",
   "name": "python",
   "nbconvert_exporter": "python",
   "pygments_lexer": "ipython3",
   "version": "3.12.4"
  }
 },
 "nbformat": 4,
 "nbformat_minor": 5
}
