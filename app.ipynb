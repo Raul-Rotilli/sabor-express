{
 "cells": [
  {
   "cell_type": "markdown",
   "id": "d3d548bc-1a95-4310-ad1e-da35c3069ce9",
   "metadata": {},
   "source": [
    "Programa Sabor Express"
   ]
  },
  {
   "cell_type": "code",
   "execution_count": 3,
   "id": "1fbbe0d6-c532-496f-b049-4bcc8ac904f3",
   "metadata": {},
   "outputs": [],
   "source": [
    "import os"
   ]
  },
  {
   "cell_type": "code",
   "execution_count": 4,
   "id": "d19aaf06-4040-4c76-bdba-2ea657027955",
   "metadata": {},
   "outputs": [],
   "source": [
    "restaurantes = ['PIZZARIA DO LUIGI', 'GALETERIA MAMA MIA']"
   ]
  },
  {
   "cell_type": "markdown",
   "id": "aaf8c15f-64f4-4c89-b87e-a252096b1b3c",
   "metadata": {},
   "source": [
    "Menu de funcionalidades do aplicativo Sabor Express"
   ]
  },
  {
   "cell_type": "code",
   "execution_count": 5,
   "id": "5c1fe7bf-1615-42c6-843d-14fc8ae6f0d1",
   "metadata": {},
   "outputs": [],
   "source": [
    "def exibir_menu():\n",
    "    try:\n",
    "        print(\"\"\"\n",
    "            𝕊𝕒𝕓𝕠𝕣 𝔼𝕩𝕡𝕣𝕖𝕤𝕤\n",
    "        ----------------------\n",
    "        1. Cadastrar restaurante\n",
    "        2. Listar restaurante\n",
    "        3. Ativar restaurante\n",
    "        4. Sair \\n\"\"\")\n",
    "    \n",
    "        escolha = int(input(\"Escolha uma opção:\"))\n",
    "        if escolha == 1:\n",
    "            cadastrar_restaurante()\n",
    "        elif escolha == 2:\n",
    "            listar_restaurante()\n",
    "        elif escolha == 3:\n",
    "            ativar_restaurante()\n",
    "        elif escolha == 4:\n",
    "            finalizar_app()\n",
    "        else: \n",
    "            opcao_invalida()\n",
    "    except:\n",
    "        opcao_invalida()\n",
    "\n",
    "\n",
    "\n",
    "    \n"
   ]
  },
  {
   "cell_type": "markdown",
   "id": "a8d7fe42-a721-4fad-bab8-3ff392e44dbf",
   "metadata": {},
   "source": [
    "Funções com as funcionalidades"
   ]
  },
  {
   "cell_type": "code",
   "execution_count": 6,
   "id": "41f201de-a3db-4996-b03c-b558f47ae787",
   "metadata": {},
   "outputs": [],
   "source": [
    "def cadastrar_restaurante():\n",
    "    exibir_subtitulo('Cadastro de restaurante\\n')\n",
    "    nome_restaurante = input('Nome do restaurante').upper()\n",
    "    restaurantes.append(nome_restaurante)\n",
    "    print(f'O {nome_restaurante} foi cadastrado com sucesso!')\n",
    "    voltar_menu_principal()\n",
    "    \n",
    "def listar_restaurante():\n",
    "    exibir_subtitulo('Lista de restaurante\\n')\n",
    "    for i in range(len(restaurantes)):\n",
    "        print(f'{i + 1}.{restaurantes[i]}')\n",
    "    voltar_menu_principal()\n",
    "    \n",
    "def ativar_restaurante():\n",
    "    exibir_subtitulo('Ativar restaurante\\n')\n",
    "    voltar_menu_principal()\n",
    "    \n",
    "def finalizar_app():\n",
    "    exibir_subtitulo('\\nSaindo do programa \\n.... \\n... \\n.. \\n.')\n",
    "    \n"
   ]
  },
  {
   "cell_type": "markdown",
   "id": "06881bda-00c6-4a29-a82d-a4f86e3dce11",
   "metadata": {},
   "source": [
    "Função para tratamento de erro"
   ]
  },
  {
   "cell_type": "code",
   "execution_count": 7,
   "id": "a00f7484-2314-490d-b00d-fe72335daf8d",
   "metadata": {},
   "outputs": [],
   "source": [
    "def opcao_invalida():\n",
    "    print(\"\"\"\n",
    "    Opção inválida.\"\"\")\n",
    "    input('Digite uma tecla para voltar para o menu principal')\n",
    "    main()\n",
    "\n",
    "def voltar_menu_principal():\n",
    "    input('\\nDigite uma tecla para voltar para o menu principal ')\n",
    "    main()\n",
    "\n",
    "def exibir_subtitulo(texto):\n",
    "    os.system('cls')\n",
    "    print(texto)"
   ]
  },
  {
   "cell_type": "markdown",
   "id": "0ec23385-19b0-40a9-bfe8-78caef3a0e1c",
   "metadata": {},
   "source": [
    "Verificando se o arquivo Python atual está sendo executado como o programa principal\n",
    "A função do menu é chamada dentro da função main(), que é chamada quando o arquivo é o programa principal"
   ]
  },
  {
   "cell_type": "code",
   "execution_count": 8,
   "id": "762e60a1-cb03-4e1a-a094-68b90960a260",
   "metadata": {},
   "outputs": [],
   "source": [
    "def main():\n",
    "    os.system('cls')\n",
    "    exibir_menu()"
   ]
  },
  {
   "cell_type": "markdown",
   "id": "9f056514-d798-4a28-9f1f-52ec99aab1b3",
   "metadata": {},
   "source": [
    "Verificando se o arquivo Python atual está sendo executado como o programa principal"
   ]
  },
  {
   "cell_type": "code",
   "execution_count": 9,
   "id": "3692b1cd-c9d1-447e-9267-c695ed379ab5",
   "metadata": {},
   "outputs": [
    {
     "name": "stdout",
     "output_type": "stream",
     "text": [
      "\n",
      "            𝕊𝕒𝕓𝕠𝕣 𝔼𝕩𝕡𝕣𝕖𝕤𝕤\n",
      "        ----------------------\n",
      "        1. Cadastrar restaurante\n",
      "        2. Listar restaurante\n",
      "        3. Ativar restaurante\n",
      "        4. Sair \n",
      "\n"
     ]
    },
    {
     "name": "stdout",
     "output_type": "stream",
     "text": [
      "Lista de restaurante\n",
      "\n",
      "1.PIZZARIA DO LUIGI\n",
      "2.GALETERIA MAMA MIA\n",
      "\n",
      "            𝕊𝕒𝕓𝕠𝕣 𝔼𝕩𝕡𝕣𝕖𝕤𝕤\n",
      "        ----------------------\n",
      "        1. Cadastrar restaurante\n",
      "        2. Listar restaurante\n",
      "        3. Ativar restaurante\n",
      "        4. Sair \n",
      "\n",
      "\n",
      "Saindo do programa \n",
      ".... \n",
      "... \n",
      ".. \n",
      ".\n"
     ]
    }
   ],
   "source": [
    "if __name__ == '__main__':\n",
    "    main()"
   ]
  }
 ],
 "metadata": {
  "kernelspec": {
   "display_name": "Python 3 (ipykernel)",
   "language": "python",
   "name": "python3"
  },
  "language_info": {
   "codemirror_mode": {
    "name": "ipython",
    "version": 3
   },
   "file_extension": ".py",
   "mimetype": "text/x-python",
   "name": "python",
   "nbconvert_exporter": "python",
   "pygments_lexer": "ipython3",
   "version": "3.12.4"
  }
 },
 "nbformat": 4,
 "nbformat_minor": 5
}
